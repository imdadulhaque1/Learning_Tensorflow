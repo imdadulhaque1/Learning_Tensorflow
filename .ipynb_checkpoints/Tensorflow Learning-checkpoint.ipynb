{
 "cells": [
  {
   "cell_type": "markdown",
   "id": "4bca6ee7",
   "metadata": {},
   "source": [
    "# Learning Tensorflow\n",
    "<h3>Install Tensorflow and requied packages</h3>\n",
    "<li><code>pip install tensorflow</code></li>\n",
    "<li><code>conda install tensorflow</code></li>\n",
    "<li><code>pip install pandas</code></li>\n",
    "<li><code>pip install seaborn</code></li>\n",
    "<li><code>pip install matplotlib</code></li>\n",
    "<li><code>pip install -U scikit-learn</code></li>\n",
    "\n",
    "\n",
    "<hr/>\n",
    "<h3>The following are all tensors</h3>\n",
    "<li>[0.1, 0.075, 0.079] is called a vector</li>\n",
    "<li>[1] is a scalar</li>\n",
    "<li>Matrix is a multidimensional array</li>\n",
    "<li>Tensor is a multidimensional array of vectors</li>"
   ]
  },
  {
   "cell_type": "markdown",
   "id": "eeee440b",
   "metadata": {},
   "source": [
    "### Import needed packages"
   ]
  },
  {
   "cell_type": "code",
   "execution_count": 1,
   "id": "2d3cded7",
   "metadata": {},
   "outputs": [],
   "source": [
    "import tensorflow as tf\n",
    "from tensorflow import keras\n",
    "from tensorflow.keras import layers\n",
    "import numpy as np\n",
    "import pandas as pd\n",
    "import seaborn as sns\n",
    "import matplotlib.pyplot as plt\n",
    "\n",
    "\n",
    "#used to split data into training and testing\n",
    "from sklearn.model_selection import train_test_split\n",
    "from sklearn.compose import make_column_transformer\n",
    "from sklearn.preprocessing import MinMaxScaler, OneHotEncoder\n",
    "\n",
    "#Multiple math functions\n",
    "from tensorflow import math\n",
    "\n",
    "from keras.utils.vis_utils import plot_model\n",
    "\n",
    "\n"
   ]
  },
  {
   "cell_type": "code",
   "execution_count": 2,
   "id": "828561de",
   "metadata": {},
   "outputs": [],
   "source": [
    "#Test if using Tensorflow GPU\n",
    "if(tf.config.list_physical_devices('GPU')):\n",
    "    print('Yes!')\n",
    "else:\n",
    "    print(\"Not Isntalled!\")"
   ]
  }
 ],
 "metadata": {
  "kernelspec": {
   "display_name": "Python 3 (ipykernel)",
   "language": "python",
   "name": "python3"
  },
  "language_info": {
   "codemirror_mode": {
    "name": "ipython",
    "version": 3
   },
   "file_extension": ".py",
   "mimetype": "text/x-python",
   "name": "python",
   "nbconvert_exporter": "python",
   "pygments_lexer": "ipython3",
   "version": "3.9.7"
  }
 },
 "nbformat": 4,
 "nbformat_minor": 5
}
